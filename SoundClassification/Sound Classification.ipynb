{
 "cells": [
  {
   "cell_type": "code",
   "execution_count": 1,
   "metadata": {},
   "outputs": [],
   "source": [
    "import turicreate as tc\n",
    "from os.path import basename"
   ]
  },
  {
   "cell_type": "code",
   "execution_count": 2,
   "metadata": {},
   "outputs": [
    {
     "data": {
      "text/plain": [
       "'5.6'"
      ]
     },
     "execution_count": 2,
     "metadata": {},
     "output_type": "execute_result"
    }
   ],
   "source": [
    "tc.__version__"
   ]
  },
  {
   "cell_type": "code",
   "execution_count": 3,
   "metadata": {},
   "outputs": [
    {
     "data": {
      "text/html": [
       "<pre>Finished parsing file /Users/anujdutt/Downloads/SoundClassification/ESC-50-master/meta/esc50.csv</pre>"
      ],
      "text/plain": [
       "Finished parsing file /Users/anujdutt/Downloads/SoundClassification/ESC-50-master/meta/esc50.csv"
      ]
     },
     "metadata": {},
     "output_type": "display_data"
    },
    {
     "data": {
      "text/html": [
       "<pre>Parsing completed. Parsed 100 lines in 0.023835 secs.</pre>"
      ],
      "text/plain": [
       "Parsing completed. Parsed 100 lines in 0.023835 secs."
      ]
     },
     "metadata": {},
     "output_type": "display_data"
    },
    {
     "name": "stdout",
     "output_type": "stream",
     "text": [
      "------------------------------------------------------\n",
      "Inferred types from first 100 line(s) of file as \n",
      "column_type_hints=[str,int,int,str,str,int,str]\n",
      "If parsing fails due to incorrect types, you can correct\n",
      "the inferred type list above and pass it to read_csv in\n",
      "the column_type_hints argument\n",
      "------------------------------------------------------\n"
     ]
    },
    {
     "data": {
      "text/html": [
       "<pre>Finished parsing file /Users/anujdutt/Downloads/SoundClassification/ESC-50-master/meta/esc50.csv</pre>"
      ],
      "text/plain": [
       "Finished parsing file /Users/anujdutt/Downloads/SoundClassification/ESC-50-master/meta/esc50.csv"
      ]
     },
     "metadata": {},
     "output_type": "display_data"
    },
    {
     "data": {
      "text/html": [
       "<pre>Parsing completed. Parsed 2000 lines in 0.00647 secs.</pre>"
      ],
      "text/plain": [
       "Parsing completed. Parsed 2000 lines in 0.00647 secs."
      ]
     },
     "metadata": {},
     "output_type": "display_data"
    }
   ],
   "source": [
    "# Load Audio Data\n",
    "data = tc.load_audio('./ESC-50-master/audio/')\n",
    "meta_data = tc.SFrame.read_csv('./ESC-50-master/meta/esc50.csv')"
   ]
  },
  {
   "cell_type": "code",
   "execution_count": 4,
   "metadata": {},
   "outputs": [],
   "source": [
    "# Join the audio data and the meta data.\n",
    "data['filename'] = data['path'].apply(lambda p: basename(p))\n",
    "data = data.join(meta_data)"
   ]
  },
  {
   "cell_type": "code",
   "execution_count": 5,
   "metadata": {},
   "outputs": [],
   "source": [
    "# Drop all records which are not part of the ESC-10.\n",
    "data = data.filter_by('True', 'esc10')"
   ]
  },
  {
   "cell_type": "code",
   "execution_count": 6,
   "metadata": {},
   "outputs": [],
   "source": [
    "# Make a train-test split, just use the first fold as our test set.\n",
    "test_set = data.filter_by(1, 'fold')\n",
    "train_set = data.filter_by(1, 'fold', exclude=True)"
   ]
  },
  {
   "cell_type": "code",
   "execution_count": 7,
   "metadata": {},
   "outputs": [
    {
     "name": "stdout",
     "output_type": "stream",
     "text": [
      "Downloading https://docs-assets.developer.apple.com/turicreate/models/VGGishFeatureEmbedding-v1.mlmodel\n",
      "Download completed: /var/folders/4h/q_d_80nj6_bgdtsbx5_d851r0000gn/T/model_cache/VGGishFeatureEmbedding-v1.mlmodel\n",
      "Creating a validation set from 5 percent of training data. This may take a while.\n",
      "\tYou can set ``validation_set=None`` to disable validation tracking.\n",
      "\n",
      "Preprocessing audio data -\n",
      "Preprocessed 168 of 304 examples\n",
      "Preprocessed 304 of 304 examples\n",
      "\n",
      "Preparing validataion set\n",
      "\n",
      "Training a custom neural network -\n",
      "+-------------------------+-------------------------+-------------------------+-------------------------+\n",
      "| Iteration               | Training Accuracy       | Validation Accuracy (%) | Elapsed Time            |\n",
      "+-------------------------+-------------------------+-------------------------+-------------------------+\n",
      "| 1                       | 0.374                   | 0.188                   | 61.508                  |\n",
      "+-------------------------+-------------------------+-------------------------+-------------------------+\n",
      "| 2                       | 0.543                   | 0.375                   | 61.689                  |\n",
      "+-------------------------+-------------------------+-------------------------+-------------------------+\n",
      "| 3                       | 0.683                   | 0.469                   | 61.866                  |\n",
      "+-------------------------+-------------------------+-------------------------+-------------------------+\n",
      "| 4                       | 0.774                   | 0.625                   | 62.043                  |\n",
      "+-------------------------+-------------------------+-------------------------+-------------------------+\n",
      "| 5                       | 0.850                   | 0.703                   | 62.219                  |\n",
      "+-------------------------+-------------------------+-------------------------+-------------------------+\n",
      "| 6                       | 0.861                   | 0.734                   | 62.406                  |\n",
      "+-------------------------+-------------------------+-------------------------+-------------------------+\n",
      "| 7                       | 0.877                   | 0.750                   | 62.579                  |\n",
      "+-------------------------+-------------------------+-------------------------+-------------------------+\n",
      "| 8                       | 0.890                   | 0.789                   | 62.761                  |\n",
      "+-------------------------+-------------------------+-------------------------+-------------------------+\n",
      "| 9                       | 0.904                   | 0.805                   | 62.936                  |\n",
      "+-------------------------+-------------------------+-------------------------+-------------------------+\n",
      "| 10                      | 0.915                   | 0.805                   | 63.112                  |\n",
      "+-------------------------+-------------------------+-------------------------+-------------------------+\n"
     ]
    }
   ],
   "source": [
    "# Create the model.\n",
    "model = tc.sound_classifier.create(train_set, target='category', feature='audio')"
   ]
  },
  {
   "cell_type": "code",
   "execution_count": 8,
   "metadata": {},
   "outputs": [],
   "source": [
    "# Generate an SArray of predictions from the test set.\n",
    "predictions = model.predict(test_set)"
   ]
  },
  {
   "cell_type": "code",
   "execution_count": 9,
   "metadata": {},
   "outputs": [
    {
     "name": "stdout",
     "output_type": "stream",
     "text": [
      "{'accuracy': 0.925, 'auc': 0.999479166666665, 'precision': 0.9416161616161615, 'recall': 0.925, 'f1_score': 0.9231877582341979, 'log_loss': 0.44230643533920083, 'confusion_matrix': Columns:\n",
      "\ttarget_label\tstr\n",
      "\tpredicted_label\tstr\n",
      "\tcount\tint\n",
      "\n",
      "Rows: 14\n",
      "\n",
      "Data:\n",
      "+----------------+-----------------+-------+\n",
      "|  target_label  | predicted_label | count |\n",
      "+----------------+-----------------+-------+\n",
      "|    rooster     |     sneezing    |   1   |\n",
      "|      dog       |       dog       |   6   |\n",
      "|    sneezing    |     sneezing    |   8   |\n",
      "|   helicopter   |       rain      |   1   |\n",
      "|      rain      |       rain      |   8   |\n",
      "| crackling_fire |  crackling_fire |   8   |\n",
      "|      dog       |     sneezing    |   2   |\n",
      "|    rooster     |     rooster     |   7   |\n",
      "|  crying_baby   |   crying_baby   |   8   |\n",
      "|   helicopter   |     chainsaw    |   2   |\n",
      "+----------------+-----------------+-------+\n",
      "[14 rows x 3 columns]\n",
      "Note: Only the head of the SFrame is printed.\n",
      "You can use print_rows(num_rows=m, num_columns=n) to print more rows and columns., 'roc_curve': Columns:\n",
      "\tthreshold\tfloat\n",
      "\tfpr\tfloat\n",
      "\ttpr\tfloat\n",
      "\tp\tint\n",
      "\tn\tint\n",
      "\tclass\tstr\n",
      "\n",
      "Rows: 1000010\n",
      "\n",
      "Data:\n",
      "+-----------+-----+-----+---+----+----------+\n",
      "| threshold | fpr | tpr | p | n  |  class   |\n",
      "+-----------+-----+-----+---+----+----------+\n",
      "|    0.0    | 1.0 | 1.0 | 8 | 72 | chainsaw |\n",
      "|   1e-05   | 1.0 | 1.0 | 8 | 72 | chainsaw |\n",
      "|   2e-05   | 1.0 | 1.0 | 8 | 72 | chainsaw |\n",
      "|   3e-05   | 1.0 | 1.0 | 8 | 72 | chainsaw |\n",
      "|   4e-05   | 1.0 | 1.0 | 8 | 72 | chainsaw |\n",
      "|   5e-05   | 1.0 | 1.0 | 8 | 72 | chainsaw |\n",
      "|   6e-05   | 1.0 | 1.0 | 8 | 72 | chainsaw |\n",
      "|   7e-05   | 1.0 | 1.0 | 8 | 72 | chainsaw |\n",
      "|   8e-05   | 1.0 | 1.0 | 8 | 72 | chainsaw |\n",
      "|   9e-05   | 1.0 | 1.0 | 8 | 72 | chainsaw |\n",
      "+-----------+-----+-----+---+----+----------+\n",
      "[1000010 rows x 6 columns]\n",
      "Note: Only the head of the SFrame is printed.\n",
      "You can use print_rows(num_rows=m, num_columns=n) to print more rows and columns.}\n"
     ]
    }
   ],
   "source": [
    "# Evaluate the model and print the results\n",
    "metrics = model.evaluate(test_set)\n",
    "print(metrics)"
   ]
  },
  {
   "cell_type": "code",
   "execution_count": 10,
   "metadata": {},
   "outputs": [],
   "source": [
    "# Save the model for later use in Turi Create\n",
    "model.save('EnvSceneClassification.model')"
   ]
  },
  {
   "cell_type": "code",
   "execution_count": 11,
   "metadata": {},
   "outputs": [],
   "source": [
    "# Export for use in Core ML\n",
    "model.export_coreml('EnvSceneClassification.mlmodel')"
   ]
  }
 ],
 "metadata": {
  "kernelspec": {
   "display_name": "Python 3",
   "language": "python",
   "name": "python3"
  },
  "language_info": {
   "codemirror_mode": {
    "name": "ipython",
    "version": 3
   },
   "file_extension": ".py",
   "mimetype": "text/x-python",
   "name": "python",
   "nbconvert_exporter": "python",
   "pygments_lexer": "ipython3",
   "version": "3.6.7"
  }
 },
 "nbformat": 4,
 "nbformat_minor": 2
}
